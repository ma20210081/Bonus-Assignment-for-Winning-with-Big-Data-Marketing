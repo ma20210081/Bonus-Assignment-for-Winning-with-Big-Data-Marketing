{
 "cells": [
  {
   "cell_type": "code",
   "execution_count": 2,
   "metadata": {},
   "outputs": [],
   "source": [
    "from __future__ import division\n",
    "import os\n",
    "import sys\n",
    "import glob\n",
    "import matplotlib.pyplot as plt\n",
    "import numpy as np\n",
    "import pandas as pd\n",
    "%matplotlib inline\n",
    "%precision 4\n",
    "#plt.style.use('ggplot')\n",
    "import seaborn as sns\n",
    "sns.set_style('white')\n",
    "sns.set_context('paper')"
   ]
  },
  {
   "cell_type": "code",
   "execution_count": 3,
   "metadata": {},
   "outputs": [],
   "source": [
    "import re\n",
    "import time\n",
    "from selenium import webdriver\n",
    "from selenium.webdriver.common.by import By\n",
    "from selenium.webdriver.support.ui import WebDriverWait\n",
    "from selenium.webdriver.support import expected_conditions as EC"
   ]
  },
  {
   "cell_type": "code",
   "execution_count": 126,
   "metadata": {},
   "outputs": [],
   "source": [
    "# Twitter account\n",
    "user_name = \"username\"\n",
    "password = \"password\"\n",
    "# Query\n",
    "keyword = \"(@Starbucks OR @dunkindonuts OR @cariboucoffee OR @GloriaJeansUSA OR @CaffeNero_US OR @CostaCoffee OR @TheCoffeeBean OR @bluebottleroast OR @peetscoffee OR @TimHortons OR @McCafe)\" \n",
    "# target duration\n",
    "since = '11/1/2019'\n",
    "until = '11/30/2019'\n",
    "s_date = pd.date_range(start=since, end=until)"
   ]
  },
  {
   "cell_type": "code",
   "execution_count": 127,
   "metadata": {},
   "outputs": [],
   "source": [
    "# call chrome driver\n",
    "driver = webdriver.Chrome()\n",
    "# open the bidding website\n",
    "driver.get(\"https://www.twitter.com/\")\n",
    "\n",
    "# wait until Log in is clickable\n",
    "wait = WebDriverWait(driver, 10)\n",
    "wait.until(EC.element_to_be_clickable((By.LINK_TEXT, \"Log in\")))\n",
    "\n",
    "# login\n",
    "driver.find_element_by_link_text(\"Log in\").click()\n",
    "\n",
    "# wait until Log in is clickable\n",
    "wait.until(EC.element_to_be_clickable((By.XPATH, '//*[@id=\"react-root\"]/div/div/div[2]/main/div/div/form/div/div[3]/div')))\n",
    "\n",
    "# log in twitter\n",
    "driver.find_element_by_name(\"session[username_or_email]\").send_keys(user_name)\n",
    "driver.find_element_by_name(\"session[password]\").send_keys(password)\n",
    "driver.find_element_by_xpath('//*[@id=\"react-root\"]/div/div/div[2]/main/div/div/form/div/div[3]/div').click()"
   ]
  },
  {
   "cell_type": "code",
   "execution_count": 128,
   "metadata": {
    "scrolled": true
   },
   "outputs": [
    {
     "name": "stdout",
     "output_type": "stream",
     "text": [
      "start:  2019-11-01\n",
      "saved:  2019-11-01\n",
      "start:  2019-11-02\n",
      "saved:  2019-11-02\n",
      "start:  2019-11-03\n",
      "saved:  2019-11-03\n",
      "start:  2019-11-04\n",
      "saved:  2019-11-04\n",
      "start:  2019-11-05\n",
      "saved:  2019-11-05\n",
      "start:  2019-11-06\n",
      "saved:  2019-11-06\n",
      "start:  2019-11-07\n",
      "saved:  2019-11-07\n",
      "start:  2019-11-08\n",
      "saved:  2019-11-08\n",
      "start:  2019-11-09\n",
      "saved:  2019-11-09\n",
      "start:  2019-11-10\n",
      "saved:  2019-11-10\n",
      "start:  2019-11-11\n",
      "saved:  2019-11-11\n",
      "start:  2019-11-12\n",
      "saved:  2019-11-12\n",
      "start:  2019-11-13\n",
      "saved:  2019-11-13\n",
      "start:  2019-11-14\n",
      "saved:  2019-11-14\n",
      "start:  2019-11-15\n",
      "saved:  2019-11-15\n",
      "start:  2019-11-16\n",
      "saved:  2019-11-16\n",
      "start:  2019-11-17\n",
      "saved:  2019-11-17\n",
      "start:  2019-11-18\n",
      "saved:  2019-11-18\n",
      "start:  2019-11-19\n",
      "saved:  2019-11-19\n",
      "start:  2019-11-20\n",
      "saved:  2019-11-20\n",
      "start:  2019-11-21\n",
      "saved:  2019-11-21\n",
      "start:  2019-11-22\n",
      "saved:  2019-11-22\n",
      "start:  2019-11-23\n",
      "saved:  2019-11-23\n",
      "start:  2019-11-24\n",
      "saved:  2019-11-24\n",
      "start:  2019-11-25\n",
      "saved:  2019-11-25\n",
      "start:  2019-11-26\n",
      "saved:  2019-11-26\n",
      "start:  2019-11-27\n",
      "saved:  2019-11-27\n",
      "start:  2019-11-28\n",
      "saved:  2019-11-28\n",
      "start:  2019-11-29\n",
      "saved:  2019-11-29\n"
     ]
    }
   ],
   "source": [
    "# start crawling\n",
    "for date in range(len(s_date)-1):\n",
    "    query = keyword+\" since:\"+str(s_date[date].date())+\" until:\"+str(s_date[date+1].date())\n",
    "    print(\"start: \", str(s_date[date].date()))\n",
    "\n",
    "    # wait until search form is available\n",
    "    wait.until(EC.element_to_be_clickable((By.XPATH, '//*[@id=\"react-root\"]/div/div/div[2]/main/div/div/div/div[1]/div/div[1]/div[1]/div/div/div/div/div[1]/div[2]/div/div/div/form/div[1]/div/div/div[2]/input')))\n",
    "#     wait.until(EC.element_to_be_clickable((By.XPATH, '//*[@id=\"react-root\"]/div/div/div[2]/main/div/div/div/div[2]/div/div[2]/div/div/div/div[1]/div/div/div/form/div[1]/div/div/div[2]/input')))\n",
    "\n",
    "    # search starbucks\n",
    "    search_form = driver.find_element_by_xpath('//*[@id=\"react-root\"]/div/div/div[2]/main/div/div/div/div[1]/div/div[1]/div[1]/div/div/div/div/div[1]/div[2]/div/div/div/form/div[1]/div/div/div[2]/input')\n",
    "    search_form.send_keys(query)\n",
    "    search_form.submit()\n",
    "\n",
    "    # wait until search form is available\n",
    "    wait.until(EC.element_to_be_clickable((By.TAG_NAME, \"article\")))\n",
    "\n",
    "    scroll_from = 0\n",
    "    # get page height\n",
    "    height = driver.execute_script(\"return document.body.scrollHeight\")\n",
    "    scroll_to = height\n",
    "\n",
    "    tweets = []\n",
    "    for i in range(10):\n",
    "        # wait until loading articles\n",
    "        time.sleep(10)\n",
    "        # get articles\n",
    "        articles = driver.find_elements_by_tag_name(\"article\")\n",
    "        for j in articles:\n",
    "            tweet = []\n",
    "            spans = j.find_elements_by_tag_name(\"span\")\n",
    "            for k in spans:\n",
    "                tweet.extend([k.get_attribute('innerHTML')])\n",
    "            tweets.append(tweet)\n",
    "        # scroll to the end\n",
    "        driver.execute_script(\"window.scrollTo(\"+str(scroll_from)+\", \"+str(scroll_to)+\");\")\n",
    "        scroll_from = scroll_to\n",
    "        scroll_to += height\n",
    "\n",
    "    # Save raw data\n",
    "    df = pd.DataFrame(tweets)\n",
    "    df.to_csv(\"./data/Twitter_crawling_data/\" + str(s_date[date].date()) + \".csv\")\n",
    "    \n",
    "    # Wait until back button is available\n",
    "    wait.until(EC.element_to_be_clickable((By.XPATH, '//*[@id=\"react-root\"]/div/div/div[2]/main/div/div/div/div[1]/div/div[1]/div[1]/div/div/div/div/div[1]/div')))\n",
    "    driver.find_element_by_xpath('//*[@id=\"react-root\"]/div/div/div[2]/main/div/div/div/div[1]/div/div[1]/div[1]/div/div/div/div/div[1]/div').click()\n",
    "    \n",
    "    # Extract only tweet content\n",
    "    pre_processed = []\n",
    "    for i in range(len(df)):\n",
    "        content = ' '.join(df.loc[i].dropna().to_list())\n",
    "        content = re.sub('<a.*?>|</a>|<div.*?>|</div>|<img.*?>', '', content)\n",
    "        pattern = '.*?·(.*?)<span.*'\n",
    "        repatter = re.compile(pattern)\n",
    "        result = repatter.match(content)\n",
    "        if result:\n",
    "            pre_processed.append([i, result.group(1)])\n",
    "            \n",
    "    pd.DataFrame(pre_processed).set_index(0).to_csv(\"./data/Twitter_crawling_data/\" + str(s_date[date].date()) + \"_pre_processed.csv\")\n",
    "    print(\"saved: \", str(s_date[date].date()))\n",
    "    \n",
    "driver.quit()"
   ]
  },
  {
   "cell_type": "code",
   "execution_count": 134,
   "metadata": {
    "scrolled": true
   },
   "outputs": [],
   "source": [
    "# target duration\n",
    "since = '10/1/2019'\n",
    "until = '11/30/2019'\n",
    "s_date = pd.date_range(start=since, end=until)\n",
    "\n",
    "df = pd.DataFrame()\n",
    "for date in range(len(s_date)-1):\n",
    "    tmp = pd.read_csv(\"./data/Twitter_crawling_data/\" + str(s_date[date].date()) + \"_pre_processed.csv\")\n",
    "    df = pd.concat([df, tmp])\n",
    "\n",
    "# Discard meaningless and duplicated tweets\n",
    "length = lambda x: len(x)\n",
    "file_name = \"./data/Twitter_crawling_data/since:2019-10-1_until:2019-11-30_pre_processed_over30.csv\"\n",
    "df[df['1'].map(length) > 30].drop_duplicates(subset='1').to_csv(file_name)"
   ]
  },
  {
   "cell_type": "code",
   "execution_count": 172,
   "metadata": {
    "scrolled": true
   },
   "outputs": [],
   "source": [
    "# Add column to represent which coffee chain a user tweets \n",
    "coffee_chain_brand_list = [\"@Starbucks\", \"@dunkindonuts\", \"@cariboucoffee\", \"@GloriaJeansUSA\", \"@CaffeNero_US\", \"@CostaCoffee\", \"@TheCoffeeBean\", \"@bluebottleroast\", \"@peetscoffee\", \"@TimHortons\", \"@McCafe\"]\n",
    "df = pd.read_csv(file_name)\n",
    "df_t = pd.DataFrame(index=df.index, columns=coffee_chain_brand_list).fillna(0)\n",
    "for i in range(len(df)):\n",
    "    for j in set(df['1'].loc[i].split(\" \")).intersection(set(coffee_chain_brand_list)):\n",
    "        df_t[j].iloc[i] = 1\n",
    "\n",
    "df_res = pd.concat([df, df_t], axis=1)"
   ]
  },
  {
   "cell_type": "code",
   "execution_count": 236,
   "metadata": {},
   "outputs": [],
   "source": [
    "df_res.to_csv(\"./data/Twitter_crawling_data/complete_dataset_2019-10-1_2019-11-30.csv\")"
   ]
  },
  {
   "cell_type": "code",
   "execution_count": 195,
   "metadata": {},
   "outputs": [
    {
     "data": {
      "text/plain": [
       "<matplotlib.axes._subplots.AxesSubplot at 0x103acbfd0>"
      ]
     },
     "execution_count": 195,
     "metadata": {},
     "output_type": "execute_result"
    },
    {
     "data": {
      "image/png": "[encoded data removed]",
      "text/plain": [
       "<Figure size 432x288 with 1 Axes>"
      ]
     },
     "metadata": {},
     "output_type": "display_data"
    }
   ],
   "source": [
    "# Plot share of mouth\n",
    "df_res[coffee_chain_brand_list].sum().sort_values(ascending=False).plot(kind='bar')"
   ]
  }
 ],
 "metadata": {
  "kernelspec": {
   "display_name": "Python 3",
   "language": "python",
   "name": "python3"
  },
  "language_info": {
   "codemirror_mode": {
    "name": "ipython",
    "version": 3
   },
   "file_extension": ".py",
   "mimetype": "text/x-python",
   "name": "python",
   "nbconvert_exporter": "python",
   "pygments_lexer": "ipython3",
   "version": "3.7.4"
  }
 },
 "nbformat": 4,
 "nbformat_minor": 2
}
